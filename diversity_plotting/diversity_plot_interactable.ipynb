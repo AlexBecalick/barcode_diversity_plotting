{
 "metadata": {
  "language_info": {
   "codemirror_mode": {
    "name": "ipython",
    "version": 3
   },
   "file_extension": ".py",
   "mimetype": "text/x-python",
   "name": "python",
   "nbconvert_exporter": "python",
   "pygments_lexer": "ipython3",
   "version": "3.8.5-final"
  },
  "orig_nbformat": 2,
  "kernelspec": {
   "name": "python3",
   "display_name": "Python 3.8.5 64-bit ('slideseq': conda)",
   "metadata": {
    "interpreter": {
     "hash": "e86b237e6e85eb875b2e66f220e18ec1e322f10674583bc7dbb6637731b61996"
    }
   }
  }
 },
 "nbformat": 4,
 "nbformat_minor": 2,
 "cells": [
  {
   "cell_type": "code",
   "execution_count": 1,
   "metadata": {},
   "outputs": [],
   "source": [
    "#import widget functionality\n",
    "import ipywidgets as widgets\n",
    "from ipywidgets import interact, interactive, fixed, interact_manual\n",
    "from ipywidgets import FloatSlider\n",
    "from ipywidgets import IntSlider\n",
    "from IPython.display import display"
   ]
  },
  {
   "cell_type": "code",
   "execution_count": 2,
   "metadata": {},
   "outputs": [],
   "source": [
    "%load_ext autoreload\n",
    "%autoreload 2\n",
    "import diversity_calculation_funcs as dcf"
   ]
  },
  {
   "cell_type": "code",
   "execution_count": 7,
   "metadata": {},
   "outputs": [
    {
     "output_type": "display_data",
     "data": {
      "text/plain": "interactive(children=(IntSlider(value=500, description='Number of bins', layout=Layout(width='500px'), max=100…",
      "application/vnd.jupyter.widget-view+json": {
       "version_major": 2,
       "version_minor": 0,
       "model_id": "80b10d48f9f04f05a14411ae3faae999"
      }
     },
     "metadata": {}
    },
    {
     "output_type": "execute_result",
     "data": {
      "text/plain": [
       "<function diversity_calculation_funcs.generate_plots(n_bins, stride, barcode_amount, n_coefficient, e_coefficient, max_cells, all_unique)>"
      ]
     },
     "metadata": {},
     "execution_count": 7
    }
   ],
   "source": [
    "#Takes about 1 sec per thousand barcodes + 1 sec per thousand cells\n",
    "style = {'description_width': 'initial'}\n",
    "layout = widgets.Layout(width='500px')\n",
    "interact_plot = interact.options(manual=True, manual_name=\"Plot graphs\")\n",
    "interact_plot(dcf.generate_plots, max_cells=IntSlider(description = 'Number of cells', style=style, layout = layout, min = 2, max = 100000, step = 2, value = 5000), \n",
    "                               barcode_amount=IntSlider(description = 'Number of barcodes', style=style, layout = layout, min = 10, max = 1000000, step = 50, value = 2500, continuous_update=False),\n",
    "                               n_bins=IntSlider(description = 'Number of bins', style=style, layout = layout, min = 1, max = 1000, value = 500),\n",
    "                               stride=IntSlider(description = 'Stride', style=style, layout = layout, min = 2, max = 1000, step = 2, value = 100),  \n",
    "                               n_coefficient=IntSlider(description = 'Skew coefficient', style=style, layout = layout, min = 1, max = 100000, value = 500, continuous_update=False),\n",
    "                               all_unique=IntSlider(description = 'Skew toggle', style=style, layout = layout, min = 0, max = 1, value = 1, continuous_update=False), \n",
    "                               e_coefficient=FloatSlider(description = 'Exp coefficient', style=style, layout = layout, min = 0, max = 3, step = 1e-2, value = 1, continuous_update=False))"
   ]
  },
  {
   "cell_type": "code",
   "execution_count": null,
   "metadata": {},
   "outputs": [],
   "source": []
  }
 ]
}