{
 "metadata": {
  "language_info": {
   "codemirror_mode": {
    "name": "ipython",
    "version": 3
   },
   "file_extension": ".py",
   "mimetype": "text/x-python",
   "name": "python",
   "nbconvert_exporter": "python",
   "pygments_lexer": "ipython3",
   "version": "3.8.5-final"
  },
  "orig_nbformat": 2,
  "kernelspec": {
   "name": "python3",
   "display_name": "Python 3.8.5 64-bit ('slideseq': conda)",
   "metadata": {
    "interpreter": {
     "hash": "e86b237e6e85eb875b2e66f220e18ec1e322f10674583bc7dbb6637731b61996"
    }
   }
  }
 },
 "nbformat": 4,
 "nbformat_minor": 2,
 "cells": [
  {
   "cell_type": "code",
   "execution_count": 12,
   "metadata": {},
   "outputs": [
    {
     "output_type": "stream",
     "name": "stdout",
     "text": [
      "The line_profiler extension is already loaded. To reload it, use:\n  %reload_ext line_profiler\n"
     ]
    }
   ],
   "source": [
    "#import widget functionality\n",
    "from __future__ import print_function\n",
    "from ipywidgets import interact, interactive, fixed, interact_manual\n",
    "from ipywidgets import FloatSlider\n",
    "from ipywidgets import IntSlider\n",
    "import ipywidgets as widgets\n",
    "\n",
    "#Load libraries\n",
    "import pandas as pd\n",
    "import numpy as np\n",
    "from IPython.display import display\n",
    "import matplotlib.pyplot as plt\n",
    "import math as math\n",
    "import line_profiler\n",
    "%load_ext line_profiler\n"
   ]
  },
  {
   "cell_type": "code",
   "execution_count": null,
   "metadata": {},
   "outputs": [],
   "source": [
    "#Creates array to hold the frequency of each barcode in the library\n",
    "def my_data(barcode_amount, broadness, exponentiality):\n",
    "    data = np.zeros((barcode_amount, 2))\n",
    "\n",
    "    num = 1\n",
    "    for row in range(barcode_amount):\n",
    "        data[row][0] = num\n",
    "        num += 1\n",
    "\n",
    "    for row in range(barcode_amount):\n",
    "        data[row][1] = math.exp(exponentiality/broadness*(data[row][0]))\n",
    "    \n",
    "    return data\n",
    "\n",
    "#Calculates the probability of picking each barcode\n",
    "def probability_distribution(barcode_distribution): \n",
    "    barcode_probability = np.zeros(len(barcode_distribution))\n",
    "    counter = 0\n",
    "    for barcode in barcode_distribution[:,1]:\n",
    "        probability = barcode_distribution[counter,1] / sum(barcode_distribution[:,1])\n",
    "        barcode_probability[counter] = probability\n",
    "        counter += 1\n",
    "    \n",
    "    return barcode_probability\n",
    "\n",
    "#Calculates the fraction of uniquely labelled cells, given the barcode probability distribution and number of infected cells\n",
    "def fraction_unique(barcode_probability, cell_num):\n",
    "    barcode_contribution = barcode_probability * (1 - (1 - barcode_probability)**(cell_num - 1))\n",
    "    unique = 1 - sum(barcode_contribution)\n",
    "    \n",
    "    return unique"
   ]
  },
  {
   "cell_type": "code",
   "execution_count": 31,
   "metadata": {},
   "outputs": [
    {
     "output_type": "display_data",
     "data": {
      "text/plain": "interactive(children=(IntSlider(value=5000, continuous_update=False, description='barcode_amount', max=10000, …",
      "application/vnd.jupyter.widget-view+json": {
       "version_major": 2,
       "version_minor": 0,
       "model_id": "48eaf590caa74a2c8c5bc8d6572abe81"
      }
     },
     "metadata": {}
    },
    {
     "output_type": "display_data",
     "data": {
      "text/plain": "interactive(children=(IntSlider(value=5000, description='max_cells', max=10000, min=1), IntSlider(value=5000, …",
      "application/vnd.jupyter.widget-view+json": {
       "version_major": 2,
       "version_minor": 0,
       "model_id": "476cc4bf46ef45a1b3af7a29451341df"
      }
     },
     "metadata": {}
    },
    {
     "output_type": "execute_result",
     "data": {
      "text/plain": [
       "<function __main__.plot_unique_barcoded_cells(max_cells, plotted_points=(1, 10000, 10))>"
      ]
     },
     "metadata": {},
     "execution_count": 31
    }
   ],
   "source": [
    "#Defines barcode distribution with editable parameters, outputting visualisation\n",
    "def generate_data(barcode_amount, broadness, exponentiality):\n",
    "    plt.figure(figsize=(15,7))\n",
    "    plt.plot(my_data(barcode_amount, broadness, exponentiality)[:,0], \n",
    "        my_data(barcode_amount, broadness, exponentiality)[:,1])\n",
    "    plt.title('Barcode diversity')\n",
    "    plt.xlabel('Barcode index')\n",
    "    plt.ylabel('Barcode frequency')\n",
    "    plt.xlim(0)\n",
    "    plt.grid(True)\n",
    "    global barcode_distribution\n",
    "    barcode_distribution = my_data(barcode_amount, broadness, exponentiality)\n",
    "\n",
    "interact(generate_data, barcode_amount=IntSlider(min = 100, max = 10000, value = 5000, continuous_update=False), \n",
    "                        broadness=IntSlider(min = 1, max = 1000, value = 200, continuous_update=False), \n",
    "                        exponentiality=FloatSlider(min = 0, max = 3, step = 1e-2, value = 1, continuous_update=False))\n",
    "\n",
    "#Takes about 1 sec per thousand barcodes + 1 sec per thousand cells\n",
    "def plot_unique_barcoded_cells(max_cells, plotted_points = (1,10000,10)):\n",
    "    plt.figure(figsize=(15,7))\n",
    "    cell_num_array = np.arange(1, plotted_points, dtype = float)\n",
    "    print(cell_num_array)\n",
    "    barcode_probability = probability_distribution(barcode_distribution)\n",
    "    for num in cell_num_array:\n",
    "        cell_num_array[int(num)-1] = fraction_unique(barcode_probability, int(num))\n",
    "    plt.plot(np.arange(1, max_cells, max_cells//plotted_points), cell_num_array)\n",
    "    plt.title('Barcode diversity')\n",
    "    plt.xlabel('Number of infected starter cells')\n",
    "    plt.ylabel('Fraction of uniquely labeled cells')\n",
    "    plt.xlim(0)\n",
    "    plt.ylim(0, 1)\n",
    "    plt.grid(True)\n",
    "\n",
    "interact_manual(plot_unique_barcoded_cells, max_cells=IntSlider(min = 1, max = 10000, value = 5000), \n",
    "                                            plotted_points=IntSlider(min = 1, max = 10000, value = 5000))"
   ]
  },
  {
   "cell_type": "code",
   "execution_count": null,
   "metadata": {
    "tags": [
     "outputPrepend"
    ]
   },
   "outputs": [],
   "source": [
    "from barcode_functions import plot_unique_barcoded_cells\n",
    "%lprun -f plot_unique_barcoded_cells plot_unique_barcoded_cells()"
   ]
  }
 ]
}