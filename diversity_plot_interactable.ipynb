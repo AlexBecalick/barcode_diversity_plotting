{
 "metadata": {
  "language_info": {
   "codemirror_mode": {
    "name": "ipython",
    "version": 3
   },
   "file_extension": ".py",
   "mimetype": "text/x-python",
   "name": "python",
   "nbconvert_exporter": "python",
   "pygments_lexer": "ipython3",
   "version": "3.8.5-final"
  },
  "orig_nbformat": 2,
  "kernelspec": {
   "name": "python3",
   "display_name": "Python 3.8.5 64-bit ('slideseq': conda)",
   "metadata": {
    "interpreter": {
     "hash": "e86b237e6e85eb875b2e66f220e18ec1e322f10674583bc7dbb6637731b61996"
    }
   }
  }
 },
 "nbformat": 4,
 "nbformat_minor": 2,
 "cells": [
  {
   "cell_type": "code",
   "execution_count": 5,
   "metadata": {},
   "outputs": [
    {
     "output_type": "stream",
     "name": "stdout",
     "text": [
      "The line_profiler extension is already loaded. To reload it, use:\n  %reload_ext line_profiler\n"
     ]
    }
   ],
   "source": [
    "#import widget functionality\n",
    "from __future__ import print_function\n",
    "import ipywidgets as widgets\n",
    "from ipywidgets import interact, interactive, fixed, interact_manual\n",
    "from ipywidgets import FloatSlider\n",
    "from ipywidgets import IntSlider\n",
    "\n",
    "\n",
    "#Load libraries\n",
    "import pandas as pd\n",
    "import numpy as np\n",
    "from IPython.display import display\n",
    "import matplotlib.pyplot as plt\n",
    "import math as math\n",
    "import line_profiler\n",
    "%load_ext line_profiler\n"
   ]
  },
  {
   "cell_type": "code",
   "execution_count": 6,
   "metadata": {},
   "outputs": [],
   "source": [
    "#Creates array to hold the frequency of each barcode in the library\n",
    "def my_data(barcode_amount, broadness, exponentiality, all_unique):\n",
    "    data = np.zeros((barcode_amount, 2))\n",
    "\n",
    "    num = 1\n",
    "    for row in range(barcode_amount):\n",
    "        data[row][0] = num\n",
    "        num += 1\n",
    "\n",
    "    for row in range(barcode_amount):\n",
    "        #Needs tweaking so that the steepness can be modified to arrive later in the curve\n",
    "        data[row][1] = exponentiality*math.exp(all_unique/broadness*(data[row][0]))\n",
    "    \n",
    "    #Produce cumulative sum of barcodes\n",
    "    #np.cumsum(data[:,1], out=data[:,2])\n",
    "    \n",
    "    return data\n",
    "\n",
    "#Calculates the probability of picking each barcode\n",
    "def probability_distribution(barcode_distribution): \n",
    "    barcode_probability = np.zeros(len(barcode_distribution))\n",
    "    counter = 0\n",
    "    for barcode in barcode_distribution[:,1]:\n",
    "        probability = barcode_distribution[counter,1] / sum(barcode_distribution[:,1])\n",
    "        barcode_probability[counter] = probability\n",
    "        counter += 1\n",
    "    \n",
    "    return barcode_probability\n",
    "\n",
    "#Calculates the fraction of uniquely labelled cells, given the barcode probability distribution and number of infected cells\n",
    "def fraction_unique(barcode_probability, cell_num):\n",
    "    barcode_contribution = barcode_probability * (1 - (1 - barcode_probability)**(cell_num - 1))\n",
    "    unique = 1 - sum(barcode_contribution)\n",
    "\n",
    "    return unique"
   ]
  },
  {
   "cell_type": "code",
   "execution_count": 7,
   "metadata": {},
   "outputs": [
    {
     "output_type": "display_data",
     "data": {
      "text/plain": "interactive(children=(IntSlider(value=500, description='Number of bins', max=1000, min=1, style=SliderStyle(de…",
      "application/vnd.jupyter.widget-view+json": {
       "version_major": 2,
       "version_minor": 0,
       "model_id": "a855da27ddde4b49b022cae1c7289d59"
      }
     },
     "metadata": {}
    },
    {
     "output_type": "execute_result",
     "data": {
      "text/plain": [
       "<function __main__.generate_data(n_bins, stride, barcode_amount, broadness, exponentiality, max_cells, all_unique)>"
      ]
     },
     "metadata": {},
     "execution_count": 7
    }
   ],
   "source": [
    "#Defines barcode distribution with editable parameters, outputting visualisation\n",
    "\n",
    "def generate_data(n_bins, stride, barcode_amount, broadness, exponentiality, max_cells, all_unique):\n",
    "    #Create subplots\n",
    "    fig = plt.figure(figsize=(30,7))\n",
    "    coord1 = 131\n",
    "    coord2 = 132\n",
    "    coord3 = 133\n",
    "\n",
    "    #plot barcode library\n",
    "    plt.subplot(coord1)\n",
    "    plt.plot(my_data(barcode_amount, broadness, exponentiality, all_unique)[::stride,0], \n",
    "             my_data(barcode_amount, broadness, exponentiality, all_unique)[::stride,1], c='b', linewidth=4.0)\n",
    "    plt.title('Barcode distribution', fontsize=20, pad=20)\n",
    "    plt.xlabel('Barcode index', fontsize=16, labelpad=10)\n",
    "    plt.ylabel('Barcode abundance', fontsize=16, labelpad=10)\n",
    "    plt.xlim(0)\n",
    "    #plt.ylim(-10, 10000)\n",
    "    plt.grid(True)\n",
    "\n",
    "    #plot cumulative fraction\n",
    "    plt.subplot(coord2)\n",
    "    n, bins, patches = plt.hist(my_data(barcode_amount, broadness, exponentiality, all_unique)[:,1], n_bins, density=True, histtype='step', cumulative=True, label='Empirical', color = 'b', linewidth=4.0)\n",
    "    #Remove rightmost vertical line from histogram CDF\n",
    "    patches[0].set_xy(patches[0].get_xy()[:-1])\n",
    "\n",
    "    plt.title('Cumulative barcode distribution', fontsize=20, pad=20)\n",
    "    plt.xlabel('Barcode abundance group', fontsize=16, labelpad=10)\n",
    "    plt.ylabel('Cumulative fraction', fontsize=16, labelpad=10)\n",
    "    plt.xlim(0)\n",
    "    plt.ylim(0,1)\n",
    "    plt.grid(True)\n",
    "  \n",
    "    global barcode_distribution\n",
    "    barcode_distribution = my_data(barcode_amount, broadness, exponentiality, all_unique)\n",
    "    \n",
    "    #plot_unique_barcoded_cells\n",
    "    cell_num_array = np.arange(1, max_cells, dtype = float)\n",
    "    barcode_probability = probability_distribution(barcode_distribution)\n",
    "\n",
    "    #Select a stride for picking numbers out of the cell_num_array and calculate the fraction unique only for these\n",
    "    strided_array = []\n",
    "    for num in cell_num_array:\n",
    "        if not num % stride:\n",
    "            strided_array.append(fraction_unique(barcode_probability, int(num)))\n",
    "    strided_cells = np.arange(1, max_cells, stride)\n",
    "    #disgusting bodge to make these two arrays the same size after striding\n",
    "    strided_array = np.append(strided_array, strided_array[-1])\n",
    "\n",
    "    plt.subplot(coord3)\n",
    "    plt.plot(strided_cells, strided_array, c='b', linewidth=4.0)\n",
    "    plt.title('Uniquely labeled cells', fontsize=20, pad=20)\n",
    "    plt.xlabel('Number of infected starter cells', fontsize=16, labelpad=10)\n",
    "    plt.ylabel('Fraction of uniquely labeled cells', fontsize=16, labelpad=10)\n",
    "    plt.xlim(0)\n",
    "    plt.ylim(0,1)\n",
    "    plt.grid(True)\n",
    "\n",
    "#Takes about 1 sec per thousand barcodes + 1 sec per thousand cells\n",
    "style = {'description_width': 'initial'}\n",
    "interact_plot = interact.options(manual=True, manual_name=\"Plot graphs\")\n",
    "interact_plot(generate_data, max_cells=IntSlider(description = 'Number of cells', style=style, min = 2, max = 100000, step = 2, value = 5000), \n",
    "                               barcode_amount=IntSlider(description = 'Number of barcodes', style=style, min = 10, max = 10000, step = 50, value = 2500, continuous_update=False),\n",
    "                               n_bins=IntSlider(description = 'Number of bins', style=style, min = 1, max = 1000, value = 500),\n",
    "                               stride=IntSlider(description = 'Stride', style=style, min = 2, max = 1000, step = 2, value = 100),  \n",
    "                               broadness=IntSlider(description = 'Skew constant', style=style, min = 1, max = 1000, value = 500, continuous_update=False),\n",
    "                               all_unique=IntSlider(description = 'Barcode skew', style=style, min = 0, max = 1, value = 1, continuous_update=False), \n",
    "                               exponentiality=FloatSlider(description = 'Exp', style=style, min = 0, max = 3, step = 1e-2, value = 1, continuous_update=False))"
   ]
  },
  {
   "cell_type": "code",
   "execution_count": null,
   "metadata": {
    "tags": [
     "outputPrepend"
    ]
   },
   "outputs": [],
   "source": [
    "from barcode_functions import plot_unique_barcoded_cells\n",
    "%lprun -f plot_unique_barcoded_cells plot_unique_barcoded_cells()"
   ]
  },
  {
   "cell_type": "code",
   "execution_count": null,
   "metadata": {},
   "outputs": [],
   "source": []
  }
 ]
}